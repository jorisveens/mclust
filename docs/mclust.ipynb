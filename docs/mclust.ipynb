{
 "cells": [
  {
   "cell_type": "markdown",
   "metadata": {},
   "source": [
    "# Mclust\n",
    "The mclust package uses NumPy array for most inputs and outputs. Therefore numpy should be imported to set up the data. In this example the diabetes data set inside the mclust module is used, so pkg_resources is also loaded, to load the data."
   ]
  },
  {
   "cell_type": "code",
   "execution_count": 1,
   "metadata": {},
   "outputs": [],
   "source": [
    "import numpy as np\n",
    "import pkg_resources"
   ]
  },
  {
   "cell_type": "markdown",
   "metadata": {},
   "source": [
    "The diabetes data set consists of the information about the glucose, insulin and sspg levels of 145 individuals. Classifications for the individuals are also available, but are not considered in this clustering example. The data can be loaded as follows:"
   ]
  },
  {
   "cell_type": "code",
   "execution_count": 2,
   "metadata": {},
   "outputs": [],
   "source": [
    "resource_path = 'resources/data_sets/diabetes.csv'\n",
    "with pkg_resources.resource_stream('mclust', resource_path) as f:\n",
    "    diabetes = np.genfromtxt(f, delimiter=',', skip_header=1)"
   ]
  },
  {
   "cell_type": "markdown",
   "metadata": {},
   "source": [
    "The main functionality of mclust is clustering. The Mclust class provides the basic functionality for clustering. Internally it fits all available model configurations for the data on 1 to 9 groups, by default. The Mclust class is available in the clustering module, and can be imported with"
   ]
  },
  {
   "cell_type": "code",
   "execution_count": 3,
   "metadata": {},
   "outputs": [],
   "source": [
    "from mclust.clustering import Mclust, Model"
   ]
  },
  {
   "cell_type": "markdown",
   "metadata": {},
   "source": [
    "The `Model` class is also imported. This class is an enumartion that lists all model configurations. It is used later in this chapter to run mclust with a limit set of model configurations. `Model` does not have to be imported if `Mclust` is used with default settings.\n",
    "\n",
    "The Mclust class has one required constructor parameter, the data set to fit the clustering model on. The data set has to be presented as a numpy array. The object can be initialised as follows:"
   ]
  },
  {
   "cell_type": "code",
   "execution_count": 4,
   "metadata": {},
   "outputs": [],
   "source": [
    "model = Mclust(diabetes)"
   ]
  },
  {
   "cell_type": "markdown",
   "metadata": {},
   "source": [
    "This sets up an Mclust object that runs all available models for the given data on 1 to 9 clusters. For multidimensional data with more observations than parameters all 14 models are available, if there are more parameters than observations only EEE, EEV, VEV and VVV are available. For one dimensional data 2 models are available, namely, E and V.\n",
    "\n",
    "The mclust object can be fitted to the data, by simply calling fit on it, this may take some time, depending on the dimensions of the data. The fit function returns an integer indicating the success status of the model. If the model ran correctly, the return value will be 0."
   ]
  },
  {
   "cell_type": "code",
   "execution_count": 5,
   "metadata": {},
   "outputs": [
    {
     "data": {
      "text/plain": [
       "0"
      ]
     },
     "execution_count": 5,
     "metadata": {},
     "output_type": "execute_result"
    }
   ],
   "source": [
    "model.fit()"
   ]
  },
  {
   "cell_type": "markdown",
   "metadata": {},
   "source": [
    "A summary of the fitted model can be printed, by just printing the Mclust object."
   ]
  },
  {
   "cell_type": "code",
   "execution_count": 6,
   "metadata": {},
   "outputs": [
    {
     "name": "stdout",
     "output_type": "stream",
     "text": [
      "modelname: Model.VVV\n",
      "n: 145\n",
      "d: 3\n",
      "g: 3\n",
      "mean:\n",
      "[[  90.96612189  357.83541135  163.77925628]\n",
      " [ 104.57491007  495.15787528  309.44078639]\n",
      " [ 229.71014968 1099.58435216   81.45235717]]\n",
      "variance:\n",
      "[[[ 5.71925559e+01  7.61249242e+01  1.48098662e+01]\n",
      "  [ 7.61249242e+01  2.10527688e+03  3.24038682e+02]\n",
      "  [ 1.48098662e+01  3.24038682e+02  2.41981204e+03]]\n",
      "\n",
      " [[ 1.85859476e+02  1.28584836e+03 -5.15919177e+02]\n",
      "  [ 1.28584836e+03  1.40552439e+04 -2.60695388e+03]\n",
      "  [-5.15919177e+02 -2.60695388e+03  2.38598523e+04]]\n",
      "\n",
      " [[ 5.50978995e+03  2.02874794e+04 -2.47560276e+03]\n",
      "  [ 2.02874794e+04  8.26297140e+04 -1.03419499e+04]\n",
      "  [-2.47560276e+03 -1.03419499e+04  2.21278128e+03]]]\n",
      "pro: [0.53738994 0.26502765 0.19758241]\n",
      "loglik: -2303.4955606441354\n",
      "return_code: 0\n",
      "\n"
     ]
    }
   ],
   "source": [
    "print(model)"
   ]
  },
  {
   "cell_type": "markdown",
   "metadata": {},
   "source": [
    "The best clustering model for the diabetes data set is a model where the clusters have varying volume, varying shape and a varying orientation. The resulting mixture model has 3 cluster components. Roughly 53.7% of the data belongs to cluster 1, 26.5% to cluster 2 and 19.8% to cluster 3. Furthermore the output specifies the mean and covariance matrices for all 3 cluster components.\n",
    "\n",
    "The BIC value, which is used for comparing the models can be obtained by calling"
   ]
  },
  {
   "cell_type": "code",
   "execution_count": 7,
   "metadata": {},
   "outputs": [
    {
     "data": {
      "text/plain": [
       "-4751.316399818467"
      ]
     },
     "execution_count": 7,
     "metadata": {},
     "output_type": "execute_result"
    }
   ],
   "source": [
    "model.bic()"
   ]
  },
  {
   "cell_type": "markdown",
   "metadata": {},
   "source": [
    "The cluster assignments for the data used to fit the model is given by calling the `predict` function. This results in a vector where the indices of the elements correspond to the indices of the original data. The elements can take the values 0 to g-1, where each number indicates to which cluster the data point is assigned."
   ]
  },
  {
   "cell_type": "code",
   "execution_count": 8,
   "metadata": {
    "scrolled": true
   },
   "outputs": [
    {
     "data": {
      "text/plain": [
       "array([0, 0, 0, 0, 0, 0, 0, 0, 0, 0, 0, 0, 0, 0, 0, 0, 0, 0, 0, 0, 0, 0,\n",
       "       0, 0, 0, 0, 0, 0, 0, 0, 0, 0, 0, 0, 0, 0, 0, 0, 0, 0, 0, 0, 0, 0,\n",
       "       0, 0, 0, 0, 0, 0, 0, 0, 0, 0, 0, 0, 0, 0, 0, 0, 0, 0, 0, 0, 0, 0,\n",
       "       0, 0, 1, 0, 1, 0, 0, 0, 1, 1, 0, 0, 0, 0, 0, 1, 0, 0, 1, 1, 1, 1,\n",
       "       1, 1, 1, 1, 1, 1, 1, 1, 1, 1, 1, 1, 1, 1, 1, 1, 0, 1, 2, 1, 1, 0,\n",
       "       1, 1, 2, 2, 1, 2, 2, 2, 2, 2, 2, 2, 2, 2, 2, 2, 2, 2, 2, 2, 1, 2,\n",
       "       2, 1, 1, 1, 1, 2, 2, 2, 2, 2, 2, 2, 2])"
      ]
     },
     "execution_count": 8,
     "metadata": {},
     "output_type": "execute_result"
    }
   ],
   "source": [
    "model.predict()"
   ]
  },
  {
   "cell_type": "markdown",
   "metadata": {},
   "source": [
    "The predict function can also be used to assign new data points to the clusters present in the model. Note that the new data should be a NumPy array. Again the indices of the resulting array correspond to the indices of the input data."
   ]
  },
  {
   "cell_type": "code",
   "execution_count": 9,
   "metadata": {},
   "outputs": [
    {
     "data": {
      "text/plain": [
       "array([2, 1])"
      ]
     },
     "execution_count": 9,
     "metadata": {},
     "output_type": "execute_result"
    }
   ],
   "source": [
    "new_data = np.array([[200, 300, 80],\n",
    "                     [100, 500, 150]])\n",
    "model.predict(new_data)"
   ]
  },
  {
   "cell_type": "markdown",
   "metadata": {},
   "source": [
    "Furthermore the density of a data point can be calculated. There are two options for this. The density of the data point in each component of the mixture model, and the density in the model as a whole can be computed. The `component_density` and `density` functions of a mixture model can be used for this, respectively. Both functions behave in a similar manner to the `predict` function, they can be used on new observations or existing observations. If no new data is supplied, the densities for the training data are computed."
   ]
  },
  {
   "cell_type": "code",
   "execution_count": 10,
   "metadata": {},
   "outputs": [
    {
     "name": "stdout",
     "output_type": "stream",
     "text": [
      "[[9.39801573e-07 1.72068603e-08 7.92516900e-10]\n",
      " [4.83153378e-07 1.74950901e-08 4.66868720e-12]\n",
      " [2.86428081e-07 1.31292981e-08 3.93990391e-11]\n",
      " [2.92653681e-06 1.33816336e-07 1.60856687e-09]\n",
      " [7.08964639e-07 1.21572753e-07 1.33169315e-10]]\n",
      "[[2.40139247e-56 6.84284138e-49 7.94000085e-24]\n",
      " [2.10232017e-08 1.75852846e-07 2.59810245e-08]]\n"
     ]
    }
   ],
   "source": [
    "# compute component densities\n",
    "print(model.component_density()[0:5]) # only print first 5 observations\n",
    "print(model.component_density(new_data))"
   ]
  },
  {
   "cell_type": "code",
   "execution_count": 11,
   "metadata": {},
   "outputs": [
    {
     "name": "stdout",
     "output_type": "stream",
     "text": [
      "[5.09756792e-07 2.64279370e-07 1.57410981e-07 1.60847430e-06\n",
      " 4.13236917e-07 1.32759781e-06 4.80322586e-07 6.96167837e-07\n",
      " 1.29308860e-06 4.01915396e-07]\n",
      "[1.56880453e-24 6.30369165e-08]\n"
     ]
    }
   ],
   "source": [
    "# compute model densities\n",
    "print(model.density()[0:10]) # only print first 5 observations\n",
    "print(model.density(new_data))"
   ]
  },
  {
   "cell_type": "markdown",
   "metadata": {},
   "source": [
    "Sometimes only a selection of available models and cluster components might be of interest, for example only models with default orientation and spherical components on 1 to 3 clusters. This can be specified in the Mclust constructor by using the `models` and `groups` parameters. Note that the Model class needs to be imported to specify which models to use."
   ]
  },
  {
   "cell_type": "code",
   "execution_count": 12,
   "metadata": {},
   "outputs": [
    {
     "name": "stdout",
     "output_type": "stream",
     "text": [
      "modelname: Model.VII\n",
      "n: 145\n",
      "d: 3\n",
      "g: 3\n",
      "mean:\n",
      "[[  91.06215155  355.617936    159.55491577]\n",
      " [ 104.61526852  500.06535618  298.39767233]\n",
      " [ 242.46611462 1155.51073614   75.18901052]]\n",
      "variance:\n",
      "[[[ 1363.29582503     0.             0.        ]\n",
      "  [    0.          1363.29582503     0.        ]\n",
      "  [    0.             0.          1363.29582503]]\n",
      "\n",
      " [[12240.19635635     0.             0.        ]\n",
      "  [    0.         12240.19635635     0.        ]\n",
      "  [    0.             0.         12240.19635635]]\n",
      "\n",
      " [[22312.35127108     0.             0.        ]\n",
      "  [    0.         22312.35127108     0.        ]\n",
      "  [    0.             0.         22312.35127108]]]\n",
      "pro: [0.52338063 0.29914946 0.17746991]\n",
      "loglik: -2568.360249242583\n",
      "return_code: 0\n",
      "\n"
     ]
    },
    {
     "name": "stderr",
     "output_type": "stream",
     "text": [
      "/home/joris/miniconda3/envs/cleannumpy/lib/python3.6/site-packages/mclust/clustering.py:45: UserWarning: optimal number of clusters occurs at max choice\n",
      "  warnings.warn(\"optimal number of clusters occurs at max choice\")\n"
     ]
    }
   ],
   "source": [
    "model2 = Mclust(diabetes, models=[Model.EII, Model.VII],\n",
    "                groups=range(1,4))\n",
    "model2.fit()\n",
    "print(model2)"
   ]
  },
  {
   "cell_type": "markdown",
   "metadata": {},
   "source": [
    "Note that this code raises a warning. The warning suggest that there might be a better clustering possible outside the range of cluster components specified. All warning can be disable using the following code"
   ]
  },
  {
   "cell_type": "code",
   "execution_count": 13,
   "metadata": {},
   "outputs": [],
   "source": [
    "import warnings\n",
    "warnings.filterwarnings('ignore')"
   ]
  },
  {
   "cell_type": "markdown",
   "metadata": {},
   "source": [
    "Warnings can be enabled again by running"
   ]
  },
  {
   "cell_type": "code",
   "execution_count": 14,
   "metadata": {},
   "outputs": [],
   "source": [
    "warnings.filterwarnings('default')"
   ]
  },
  {
   "cell_type": "markdown",
   "metadata": {},
   "source": [
    "# ModelFactory\n",
    "It is also possible to just use a single model configuration. The ModelFactory class can be used for this purpose. This class is available in the model_factory module."
   ]
  },
  {
   "cell_type": "code",
   "execution_count": 15,
   "metadata": {},
   "outputs": [],
   "source": [
    "from mclust.model_factory import ModelFactory"
   ]
  },
  {
   "cell_type": "markdown",
   "metadata": {},
   "source": [
    "The ModelFactory has a static method `create` that sets up and returns a mixture model. This function requires 2 parameters, the data to fit the model on, and the model configuration to be fitted. Furthermore an initial clustering can be supplied via the z parameter, or the amount of groups can be specified. If the amount of groups is specified, hierarchical clustering will be used to initialise the cluster assignment."
   ]
  },
  {
   "cell_type": "code",
   "execution_count": 16,
   "metadata": {},
   "outputs": [
    {
     "name": "stdout",
     "output_type": "stream",
     "text": [
      "modelname: Model.VVV\n",
      "n: 145\n",
      "d: 3\n",
      "g: 3\n",
      "mean:\n",
      "[[  90.96612189  357.83541135  163.77925628]\n",
      " [ 104.57491007  495.15787528  309.44078639]\n",
      " [ 229.71014968 1099.58435216   81.45235717]]\n",
      "variance:\n",
      "[[[ 5.71925559e+01  7.61249242e+01  1.48098662e+01]\n",
      "  [ 7.61249242e+01  2.10527688e+03  3.24038682e+02]\n",
      "  [ 1.48098662e+01  3.24038682e+02  2.41981204e+03]]\n",
      "\n",
      " [[ 1.85859476e+02  1.28584836e+03 -5.15919177e+02]\n",
      "  [ 1.28584836e+03  1.40552439e+04 -2.60695388e+03]\n",
      "  [-5.15919177e+02 -2.60695388e+03  2.38598523e+04]]\n",
      "\n",
      " [[ 5.50978995e+03  2.02874794e+04 -2.47560276e+03]\n",
      "  [ 2.02874794e+04  8.26297140e+04 -1.03419499e+04]\n",
      "  [-2.47560276e+03 -1.03419499e+04  2.21278128e+03]]]\n",
      "pro: [0.53738994 0.26502765 0.19758241]\n",
      "loglik: -2303.4955606441354\n",
      "return_code: 0\n",
      "\n"
     ]
    }
   ],
   "source": [
    "model3 = ModelFactory.create(diabetes, Model.VVV, groups=3)\n",
    "model3.fit()\n",
    "print(model3)"
   ]
  },
  {
   "cell_type": "markdown",
   "metadata": {},
   "source": [
    "The user can also supply an own initial clustering, by using the `z` parameter instead of `groups`. An example is shown below"
   ]
  },
  {
   "cell_type": "code",
   "execution_count": 17,
   "metadata": {},
   "outputs": [
    {
     "name": "stdout",
     "output_type": "stream",
     "text": [
      "modelname: Model.VVV\n",
      "n: 145\n",
      "d: 3\n",
      "g: 4\n",
      "mean:\n",
      "[[ 100.59046928  477.31410186  389.86516999]\n",
      " [ 306.19421768 1387.5540353    49.84546866]\n",
      " [  91.70927063  358.72762043  168.51262115]\n",
      " [ 150.56352902  777.55970351  144.34246335]]\n",
      "variance:\n",
      "[[[ 1.06730277e+02  4.31864157e+02  3.31886890e+02]\n",
      "  [ 4.31864157e+02  2.76622141e+03  3.39333675e+03]\n",
      "  [ 3.31886890e+02  3.39333675e+03  2.29499885e+04]]\n",
      "\n",
      " [[ 1.00140979e+03  2.01774927e+03 -5.62354077e+02]\n",
      "  [ 2.01774927e+03  1.51005162e+04 -3.85292827e+03]\n",
      "  [-5.62354077e+02 -3.85292827e+03  1.39312258e+03]]\n",
      "\n",
      " [[ 6.85111998e+01  2.08425378e+02 -1.15356550e+01]\n",
      "  [ 2.08425378e+02  3.77961211e+03 -5.76605206e+02]\n",
      "  [-1.15356550e+01 -5.76605206e+02  3.26052655e+03]]\n",
      "\n",
      " [[ 1.79689571e+03  8.01490501e+03 -2.11616217e+03]\n",
      "  [ 8.01490501e+03  3.88769449e+04 -9.31641893e+03]\n",
      "  [-2.11616217e+03 -9.31641893e+03  5.89861413e+03]]]\n",
      "pro: [0.14482262 0.08326143 0.58276372 0.18915223]\n",
      "loglik: -2302.7414344235685\n",
      "return_code: 0\n",
      "\n"
     ]
    }
   ],
   "source": [
    "z_init = np.random.multinomial(1, [.25, .25, .25, .25], 145)\n",
    "# z matrix must be fortran contiguous and float type\n",
    "z_init = np.asfortranarray(z_init, float)\n",
    "model4 = ModelFactory.create(diabetes, Model.VVV, z=z_init)\n",
    "model4.fit()\n",
    "\n",
    "print(model4)"
   ]
  },
  {
   "cell_type": "markdown",
   "metadata": {},
   "source": [
    "The interface for all models is the same. Therefor the model created by the ModelFactory can be accessed in the same way as the model resulting from the Mclust objects, independent on the model configuration that was used. A few examples:"
   ]
  },
  {
   "cell_type": "code",
   "execution_count": 18,
   "metadata": {},
   "outputs": [
    {
     "data": {
      "text/plain": [
       "array([2, 1])"
      ]
     },
     "execution_count": 18,
     "metadata": {},
     "output_type": "execute_result"
    }
   ],
   "source": [
    "model3.predict(new_data)"
   ]
  },
  {
   "cell_type": "code",
   "execution_count": 19,
   "metadata": {
    "scrolled": true
   },
   "outputs": [
    {
     "name": "stdout",
     "output_type": "stream",
     "text": [
      "-4751.316399818467\n",
      "-5206.394770879054\n",
      "-4751.316399818467\n",
      "-4799.5754848015395\n"
     ]
    }
   ],
   "source": [
    "model_list = [model, model2, model3, model4]\n",
    "for m in model_list:\n",
    "    print(m.bic())"
   ]
  },
  {
   "cell_type": "markdown",
   "metadata": {},
   "source": [
    "# MclustBIC\n",
    "Sometimes the model selected using BIC values might not be significantly better than other models. The `MclustBIC` class can be used to fit multiple models with multiple different cluster components. It can be imported by running"
   ]
  },
  {
   "cell_type": "code",
   "execution_count": 20,
   "metadata": {},
   "outputs": [],
   "source": [
    "from mclust.clustering import MclustBIC"
   ]
  },
  {
   "cell_type": "markdown",
   "metadata": {},
   "source": [
    "The constructor for `MclustBIC` has a similar interface to the `Mclust` class. It has one mandatory parameter, the data to fit the models on. Like `Mclust` there are also parameters that allow to only fit a selection of models on a limit amount of cluster components. The basic call to `MclustBIC` is as follows:"
   ]
  },
  {
   "cell_type": "code",
   "execution_count": 21,
   "metadata": {},
   "outputs": [],
   "source": [
    "bic = MclustBIC(diabetes)"
   ]
  },
  {
   "cell_type": "markdown",
   "metadata": {},
   "source": [
    "This command directly fits all possible models on 1 to 9 cluster components by default. The return codes for all models fitted can be viewed by calling"
   ]
  },
  {
   "cell_type": "code",
   "execution_count": 22,
   "metadata": {},
   "outputs": [
    {
     "data": {
      "text/plain": [
       "array([[0, 0, 0, 0, 0, 0, 0, 0, 0, 0, 0, 0, 0, 0],\n",
       "       [0, 0, 0, 0, 0, 0, 0, 0, 0, 0, 0, 0, 0, 0],\n",
       "       [0, 0, 0, 0, 0, 0, 0, 0, 0, 0, 0, 0, 0, 0],\n",
       "       [0, 0, 0, 0, 0, 0, 0, 0, 0, 0, 0, 0, 0, 0],\n",
       "       [0, 0, 0, 0, 0, 0, 0, 0, 0, 0, 0, 0, 0, 0],\n",
       "       [0, 0, 0, 0, 0, 0, 0, 0, 0, 0, 0, 0, 0, 0],\n",
       "       [0, 0, 0, 0, 0, 0, 0, 0, 0, 0, 0, 0, 0, 0],\n",
       "       [0, 0, 0, 0, 0, 0, 0, 0, 0, 0, 0, 0, 0, 0],\n",
       "       [0, 0, 0, 0, 0, 0, 0, 0, 0, 0, 0, 0, 0, 0]])"
      ]
     },
     "execution_count": 22,
     "metadata": {},
     "output_type": "execute_result"
    }
   ],
   "source": [
    "bic.get_return_codes_matrix()"
   ]
  },
  {
   "cell_type": "markdown",
   "metadata": {},
   "source": [
    "The result of this call is a matrix where the `[i, j]`th element indicates the return code of model configuration `bic.models[j]` with `bic.groups[j]` cluster components.\n",
    "A return code of 0 indicates that the model was fitted correctly.\n",
    "\n",
    "The BIC values for all models can be accessed by the `get_bic_matrix` function. This returns a similarly structured matrix to the return code matrix, except that the elements indicate the BIC of model configuration `bic.models[j]` with `bic.groups[i]` cluster components."
   ]
  },
  {
   "cell_type": "code",
   "execution_count": 23,
   "metadata": {},
   "outputs": [
    {
     "data": {
      "text/plain": [
       "array([[-5863.9, -5863.9, -5530.1, -5530.1, -5530.1, -5530.1, -5136.4,\n",
       "        -5136.4, -5136.4, -5136.4, -5136.4, -5136.4, -5136.4, -5136.4],\n",
       "       [-5449.5, -5327.8, -5169.4, -5019.4, -5015.9, -4988.3, -5011. ,\n",
       "        -4875.6, -4920.4, -4877.1, -4918.5, -4834.7, -4823.8, -4825. ],\n",
       "       [-5412.6, -5206.4, -4998.4, -4899.8, -4920.5, -4827.8, -4976.8,\n",
       "        -4830.5, -4874. , -4840. , -4861.2, -4809.1, -4817.6, -4751.3],\n",
       "       [-5236. , -5193.2, -4937.6, -4902.9, -4865.8, -4813. , -4865.9,\n",
       "        -4849. , -4856.7, -4792.6, -4874.1, -4818.5, -4827. , -4784.3],\n",
       "       [-5181.6, -5125.7, -4934.3, -4836.7, -4838.7, -4820.7, -4858.2,\n",
       "        -4787.9, -4822.2, -4814.7, -4896.5, -4837.9, -4812. , -4804.2],\n",
       "       [-5162.2, -5114.3, -4886.3, -4824.3, -4840.4, -4827.1, -4848.5,\n",
       "        -4785.2, -4805.7, -4789.6, -4842.1, -4833.6, -4855.1, -4830.8],\n",
       "       [-5181.3, -5110.3, -4906.2, -4849.8, -4865. , -4853.6, -4868.5,\n",
       "        -4787.3, -4815.8, -4818. , -4871.2, -4855.8, -4844.7, -4858.6],\n",
       "       [-5153.7, -5091.5, -4898.8, -4855.8, -4868.6, -4881.8, -4866.6,\n",
       "        -4809.1, -4827.5, -4821.2, -4877.1, -4887. , -4854.3, -4907.5],\n",
       "       [-5102.3, -5095.9, -4879. , -4860.1, -4913.6, -4901. , -4871. ,\n",
       "        -4843.8, -4847.4, -4874.6, -4905.7, -4912.9, -4914.4, -4948.8]])"
      ]
     },
     "execution_count": 23,
     "metadata": {},
     "output_type": "execute_result"
    }
   ],
   "source": [
    "# Only print with one digit precision.\n",
    "np.set_printoptions(precision = 1)\n",
    "bic.get_bic_matrix()"
   ]
  },
  {
   "cell_type": "markdown",
   "metadata": {},
   "source": [
    "All fitted models are accessible, via the `fitted_models` field. This is a dictionary that takes the number of cluster components together with the model configuration as the keys. For example, the mean of the EEE model with 1 cluster component can be accessed in the following way."
   ]
  },
  {
   "cell_type": "code",
   "execution_count": 24,
   "metadata": {},
   "outputs": [
    {
     "name": "stdout",
     "output_type": "stream",
     "text": [
      "[[122.  540.8 186.1]]\n"
     ]
    }
   ],
   "source": [
    "print(bic.fitted_models[1, Model.EEE].mean)"
   ]
  },
  {
   "cell_type": "markdown",
   "metadata": {},
   "source": [
    "A model can be selected based on its index in the BIC matrix as follows:"
   ]
  },
  {
   "cell_type": "code",
   "execution_count": 25,
   "metadata": {},
   "outputs": [
    {
     "name": "stdout",
     "output_type": "stream",
     "text": [
      "-5010.985852685136\n",
      "Model.EEE\n",
      "2\n",
      "modelname: Model.EEE\n",
      "n: 145\n",
      "d: 3\n",
      "g: 2\n",
      "mean:\n",
      "[[ 101.2  442.3  203.1]\n",
      " [ 281.  1295.9   55.7]]\n",
      "variance:\n",
      "[[[  760.7  3878.6  -337.6]\n",
      "  [ 3878.6 27011.6  -564.7]\n",
      "  [ -337.6  -564.7 12306.4]]\n",
      "\n",
      " [[  760.7  3878.6  -337.6]\n",
      "  [ 3878.6 27011.6  -564.7]\n",
      "  [ -337.6  -564.7 12306.4]]]\n",
      "pro: [0.9 0.1]\n",
      "loglik: -2473.144157016834\n",
      "return_code: 0\n",
      "\n"
     ]
    }
   ],
   "source": [
    "print(bic.get_bic_matrix()[1, 6])\n",
    "print(bic.models[6])\n",
    "print(bic.groups[1])\n",
    "print(bic.fitted_models[bic.groups[1], bic.models[6]])"
   ]
  },
  {
   "cell_type": "markdown",
   "metadata": {},
   "source": [
    "Like the `Mclust` class, also a limited number of model configurations and cluster components can be selected. This is done by supplying the `groups` and/or `models` parameters."
   ]
  },
  {
   "cell_type": "code",
   "execution_count": 26,
   "metadata": {},
   "outputs": [
    {
     "data": {
      "text/plain": [
       "array([[-4825. , -4834.7],\n",
       "       [-4784.3, -4818.5]])"
      ]
     },
     "execution_count": 26,
     "metadata": {},
     "output_type": "execute_result"
    }
   ],
   "source": [
    "bic2 = MclustBIC(diabetes, groups=[2, 4], models=[Model.VVV, Model.VEV])\n",
    "bic2.get_bic_matrix()"
   ]
  },
  {
   "cell_type": "markdown",
   "metadata": {},
   "source": [
    "# Discriminant Analysis\n",
    "The mclust package also supports discriminant analysis. There are two methods for discriminant analysis available, namely, `EDDA` and `MclustDA`. Both are availbable from the `classification` module."
   ]
  },
  {
   "cell_type": "code",
   "execution_count": 27,
   "metadata": {},
   "outputs": [],
   "source": [
    "from mclust.classification import EDDA, MclustDA"
   ]
  },
  {
   "cell_type": "markdown",
   "metadata": {},
   "source": [
    "For classification the labels of the training data should be known a priori. The classification labels for the diabetes data can be loaded with the following code"
   ]
  },
  {
   "cell_type": "code",
   "execution_count": 28,
   "metadata": {},
   "outputs": [],
   "source": [
    "resource_path = 'resources/data_sets/diabetes_classification.csv'\n",
    "with pkg_resources.resource_stream('mclust', resource_path) as f:\n",
    "    classes = np.genfromtxt(f, delimiter=',')"
   ]
  },
  {
   "cell_type": "markdown",
   "metadata": {},
   "source": [
    "In this exampke the diabetes data is split in a training and test set."
   ]
  },
  {
   "cell_type": "code",
   "execution_count": 29,
   "metadata": {},
   "outputs": [],
   "source": [
    "training_ind = np.random.choice(range(145), 100, replace=False)\n",
    "mask = np.ones(len(diabetes), np.bool)\n",
    "mask[training_ind] = 0\n",
    "\n",
    "training = diabetes[training_ind]\n",
    "training_labels = classes[training_ind]\n",
    "\n",
    "test = diabetes[mask]\n",
    "test_labels = classes[mask]"
   ]
  },
  {
   "cell_type": "markdown",
   "metadata": {},
   "source": [
    "The `EDDA` class can be set up as follows"
   ]
  },
  {
   "cell_type": "code",
   "execution_count": 30,
   "metadata": {},
   "outputs": [],
   "source": [
    "da = EDDA(training, training_labels)"
   ]
  },
  {
   "cell_type": "markdown",
   "metadata": {},
   "source": [
    "The predicted classes for the training data can be obtained by calling the `predict` method without any parameters."
   ]
  },
  {
   "cell_type": "code",
   "execution_count": 31,
   "metadata": {},
   "outputs": [
    {
     "data": {
      "text/plain": [
       "array([2, 1, 1, 0, 2, 1, 1, 0, 1, 1, 1, 2, 0, 0, 0, 1, 2, 1, 1, 1, 1, 1,\n",
       "       2, 1, 0, 2, 1, 0, 1, 1, 0, 1, 1, 2, 1, 2, 0, 1, 1, 1, 1, 1, 0, 1,\n",
       "       1, 1, 1, 1, 2, 1, 1, 1, 1, 0, 1, 1, 1, 2, 2, 0, 0, 2, 2, 0, 1, 2,\n",
       "       1, 0, 1, 0, 1, 0, 1, 0, 1, 2, 0, 1, 1, 2, 1, 1, 0, 1, 2, 2, 1, 0,\n",
       "       0, 1, 2, 1, 1, 2, 1, 1, 2, 2, 2, 1])"
      ]
     },
     "execution_count": 31,
     "metadata": {},
     "output_type": "execute_result"
    }
   ],
   "source": [
    "da.predict()"
   ]
  },
  {
   "cell_type": "markdown",
   "metadata": {},
   "source": [
    "By passing the test data to the `predict` function, the predicted labels for the test data can be obtained."
   ]
  },
  {
   "cell_type": "code",
   "execution_count": 32,
   "metadata": {},
   "outputs": [
    {
     "data": {
      "text/plain": [
       "array([1, 1, 1, 1, 1, 1, 1, 1, 1, 1, 1, 1, 1, 1, 1, 1, 1, 1, 1, 0, 1, 1,\n",
       "       1, 1, 1, 1, 0, 0, 0, 0, 0, 0, 0, 0, 2, 0, 0, 2, 2, 2, 2, 2, 2, 2,\n",
       "       2])"
      ]
     },
     "execution_count": 32,
     "metadata": {},
     "output_type": "execute_result"
    }
   ],
   "source": [
    "pred = da.predict(test)\n",
    "pred"
   ]
  },
  {
   "cell_type": "markdown",
   "metadata": {},
   "source": [
    "With the following helper functions, the confusion matrix of the can be computed and displayed. The confusion matrix gives an indication about how well the class predictoins are."
   ]
  },
  {
   "cell_type": "code",
   "execution_count": 33,
   "metadata": {},
   "outputs": [],
   "source": [
    "def confusion(classes, pred):\n",
    "    labels = [int(l) for l in list(set(classes))]\n",
    "    cm = np.zeros((len(labels), len(labels)), float)\n",
    "    for label in labels:\n",
    "        predicted = pred[classes == label]\n",
    "        cm[label] = np.bincount(predicted, minlength = len(labels))\n",
    "    return cm\n",
    "\n",
    "def print_confusion_matrix(cm):\n",
    "    print(\"\\tpredicted\")\n",
    "    print(\"actual [\", cm[0], sep='', end='')\n",
    "    for i in range(1, len(cm)):\n",
    "        print(\"\\n\\t\", cm[i], sep='',end='')\n",
    "    print(']')"
   ]
  },
  {
   "cell_type": "code",
   "execution_count": 34,
   "metadata": {},
   "outputs": [
    {
     "name": "stdout",
     "output_type": "stream",
     "text": [
      "\tpredicted\n",
      "actual [[10.  3.  1.]\n",
      "\t[ 1. 22.  0.]\n",
      "\t[0. 0. 8.]]\n"
     ]
    }
   ],
   "source": [
    "print_confusion_matrix(confusion(test_labels, pred))"
   ]
  },
  {
   "cell_type": "markdown",
   "metadata": {},
   "source": [
    "The `MclustDA` class can be used in the same manner as the `EDDA` class. `MclustDA` can distinguish more complex classes than `EDDA`, but is compuational more expensive."
   ]
  },
  {
   "cell_type": "code",
   "execution_count": 35,
   "metadata": {},
   "outputs": [
    {
     "name": "stderr",
     "output_type": "stream",
     "text": [
      "/home/joris/miniconda3/envs/cleannumpy/lib/python3.6/site-packages/mclust/em.py:112: UserWarning: singular covariance\n",
      "  warnings.warn(\"singular covariance\")\n",
      "/home/joris/miniconda3/envs/cleannumpy/lib/python3.6/site-packages/mclust/em.py:119: UserWarning: mixing proporting fell below threshold\n",
      "  warnings.warn(\"mixing proporting fell below threshold\")\n"
     ]
    }
   ],
   "source": [
    "da2 = MclustDA(training, training_labels)"
   ]
  },
  {
   "cell_type": "markdown",
   "metadata": {},
   "source": [
    "Note that this code migth produces a couple of warnings. The warnings indicte that not all models considered by `MclustDA` can be fitted correctly. This should not be an issue, as the models that do not fit correctly are ignored."
   ]
  },
  {
   "cell_type": "code",
   "execution_count": 36,
   "metadata": {},
   "outputs": [
    {
     "data": {
      "text/plain": [
       "array([2, 1, 1, 0, 2, 1, 1, 0, 1, 1, 1, 2, 0, 0, 0, 1, 2, 1, 1, 1, 1, 1,\n",
       "       2, 1, 0, 2, 1, 2, 0, 1, 0, 1, 1, 2, 1, 2, 0, 1, 1, 1, 1, 1, 0, 1,\n",
       "       1, 1, 1, 1, 2, 1, 1, 1, 1, 1, 1, 1, 1, 2, 2, 0, 0, 2, 2, 2, 1, 2,\n",
       "       1, 2, 1, 0, 1, 0, 1, 0, 1, 2, 0, 1, 1, 2, 1, 1, 0, 1, 2, 2, 1, 0,\n",
       "       0, 1, 2, 1, 1, 2, 1, 1, 2, 2, 2, 1])"
      ]
     },
     "execution_count": 36,
     "metadata": {},
     "output_type": "execute_result"
    }
   ],
   "source": [
    "da2.predict()"
   ]
  },
  {
   "cell_type": "code",
   "execution_count": 37,
   "metadata": {},
   "outputs": [
    {
     "data": {
      "text/plain": [
       "array([1, 1, 1, 1, 1, 1, 1, 1, 1, 1, 1, 1, 1, 1, 1, 1, 1, 1, 1, 0, 0, 0,\n",
       "       1, 1, 1, 0, 0, 0, 0, 0, 0, 0, 0, 0, 0, 0, 0, 2, 2, 2, 2, 2, 2, 2,\n",
       "       2])"
      ]
     },
     "execution_count": 37,
     "metadata": {},
     "output_type": "execute_result"
    }
   ],
   "source": [
    "pred2 = da2.predict(test)\n",
    "pred2"
   ]
  },
  {
   "cell_type": "code",
   "execution_count": 38,
   "metadata": {},
   "outputs": [
    {
     "name": "stdout",
     "output_type": "stream",
     "text": [
      "\tpredicted\n",
      "actual [[14.  0.  0.]\n",
      "\t[ 1. 22.  0.]\n",
      "\t[0. 0. 8.]]\n"
     ]
    }
   ],
   "source": [
    "print_confusion_matrix(confusion(test_labels, pred2))"
   ]
  },
  {
   "cell_type": "markdown",
   "metadata": {},
   "source": [
    "In this case the `EDDA` and `MclustDA` classes produce similar results, therefor the `EDDA` method might be prefered as it takes significantly less compuational resources. In other cases the `MclustDA` class might perform significantly better than the `EDDA` class."
   ]
  }
 ],
 "metadata": {
  "kernelspec": {
   "display_name": "Python 3",
   "language": "python",
   "name": "python3"
  },
  "language_info": {
   "codemirror_mode": {
    "name": "ipython",
    "version": 3
   },
   "file_extension": ".py",
   "mimetype": "text/x-python",
   "name": "python",
   "nbconvert_exporter": "python",
   "pygments_lexer": "ipython3",
   "version": "3.6.5"
  }
 },
 "nbformat": 4,
 "nbformat_minor": 2
}
